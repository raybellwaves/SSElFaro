{
 "cells": [
  {
   "cell_type": "markdown",
   "metadata": {},
   "source": [
    "SS El Faro - Winds\n",
    "==================\n",
    "\n",
    "Author: [Ray Bell](https://github.com/raybellwaves)"
   ]
  },
  {
   "cell_type": "code",
   "execution_count": null,
   "metadata": {},
   "outputs": [],
   "source": [
    "import xarray as xr\n",
    "import xvelmap"
   ]
  },
  {
   "cell_type": "code",
   "execution_count": null,
   "metadata": {},
   "outputs": [],
   "source": [
    "ds = xr.open_dataset('SSElFaro_winds.nc')\n",
    "# Change lon coordiante to -180 - 180\n",
    "ds = ds.assign_coords(longitude=(((ds.longitude + 180) % 360) - 180))"
   ]
  },
  {
   "cell_type": "code",
   "execution_count": null,
   "metadata": {},
   "outputs": [],
   "source": [
    "# Time is in UTC. Time of last contact\n",
    "_t = '2015-10-01T12:00:00'\n",
    "#ds.sel(time=_t).xvelmap.plot('u10','v10') # Produces global map\n",
    "ds.sel(time=_t).xvelmap.plot('u10','v10',velocity_scale=0.01, max_velocity=50.,\n",
    "                             latlon_center=[int(ds.latitude.mean()), int(ds.longitude.mean())],\n",
    "                             zoom=6)"
   ]
  }
 ],
 "metadata": {
  "kernelspec": {
   "display_name": "Python 3",
   "language": "python",
   "name": "python3"
  },
  "language_info": {
   "codemirror_mode": {
    "name": "ipython",
    "version": 3
   },
   "file_extension": ".py",
   "mimetype": "text/x-python",
   "name": "python",
   "nbconvert_exporter": "python",
   "pygments_lexer": "ipython3",
   "version": "3.6.5"
  }
 },
 "nbformat": 4,
 "nbformat_minor": 2
}
