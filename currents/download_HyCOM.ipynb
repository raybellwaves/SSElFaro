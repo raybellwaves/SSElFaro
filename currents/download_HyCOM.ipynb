{
 "cells": [
  {
   "cell_type": "code",
   "execution_count": null,
   "metadata": {},
   "outputs": [],
   "source": [
    "%matplotlib inline\n",
    "import xarray as xr\n",
    "import numpy as np\n",
    "import pandas as pd"
   ]
  },
  {
   "cell_type": "code",
   "execution_count": null,
   "metadata": {},
   "outputs": [],
   "source": [
    "remote_data = xr.open_dataarray('http://tds.hycom.org/thredds/dodsC/GLBu0.08/expt_91.1/uv3z?water_u')\n",
    "remote_data"
   ]
  },
  {
   "cell_type": "code",
   "execution_count": null,
   "metadata": {},
   "outputs": [],
   "source": [
    "depths = np.array([0, 2, 4, 6, 8, 10, 12, 15, 20, 25, 30, 35, 40, 45, 50,\n",
    "                   60, 70, 80, 90, 100, 125, 150, 200, 250, 300, 350, 400,\n",
    "                   500, 600, 700, 800, 900, 1000, 1250, 1500, 2000, 2500,\n",
    "                   3000, 4000, 5000])\n",
    "# SS El Faro draft is approximately 13m. Average the data from the surface\n",
    "# to 12 meters (0:6)\n",
    "# https://en.wikipedia.org/wiki/SS_El_Faro\n",
    "depth_dim = depths[0:6]\n",
    "da = remote_data.isel(depth=slice(0, 6))"
   ]
  },
  {
   "cell_type": "code",
   "execution_count": null,
   "metadata": {},
   "outputs": [],
   "source": [
    "# Find region of interest (30.5/-81.5/18/-65.5)\n",
    "# make psudo lon and lat and coords aren't read in properly\n",
    "plon = np.linspace(0,360-(360./len(da.lon)),num=len(da.lon))\n",
    "plat = np.linspace(-80,80,num=len(da.lat))\n",
    "lonw = np.abs(plon-(360-81.5)).argmin()\n",
    "lone = np.abs(plon-(360-65.5)).argmin()\n",
    "latn = np.abs(plat-30.5).argmin()\n",
    "lats = np.abs(plat-18.).argmin()\n",
    "latdim = plat[lats:latn]\n",
    "londim = plon[lonw:lone]\n",
    "print(lonw, lone, lats, latn)"
   ]
  },
  {
   "cell_type": "code",
   "execution_count": null,
   "metadata": {},
   "outputs": [],
   "source": [
    "da2 = da.isel(lat=slice(lats, latn), lon=slice(lonw, lone))"
   ]
  },
  {
   "cell_type": "code",
   "execution_count": null,
   "metadata": {},
   "outputs": [],
   "source": [
    "#da2.isel(time=0).plot()"
   ]
  },
  {
   "cell_type": "code",
   "execution_count": null,
   "metadata": {},
   "outputs": [],
   "source": [
    "# make pseudo time as coords aren't read in\n",
    "# Daily missing days\n",
    "# https://hycom.org/faqs/463-nrl-netcdf-outputs-missing-days\n",
    "missingdays = ['2015-09-19', '2015-03-25', '2015-03-15', '2015-01-02', '2014-04-13']\n",
    "# First time point is 2014-04-07T00:00:00Z. Last time points is 2016-04-18T00:00:00Z\n",
    "times = pd.date_range(start='04/07/2014',  end='04/18/2016', freq='D')\n",
    "# Drop these time values\n",
    "for i, t in enumerate(missingdays):\n",
    "    _loc = times.get_loc(missingdays[i])\n",
    "    times = times.drop(times[_loc])\n",
    "    \n",
    "# Select Sep 29th - October 3rd\n",
    "ts = times.get_loc('2015-09-29')\n",
    "te = times.get_loc('2015-10-03')+1\n",
    "timedim = times[ts:te]\n",
    "print(ts, te)"
   ]
  },
  {
   "cell_type": "code",
   "execution_count": null,
   "metadata": {},
   "outputs": [],
   "source": [
    "dau = da2.isel(time=slice(ts, te))\n",
    "dau_avg = dau.mean(dim='depth')\n",
    "print(dau_avg)\n",
    "dau_avg.isel(time=0).plot()"
   ]
  },
  {
   "cell_type": "code",
   "execution_count": null,
   "metadata": {},
   "outputs": [],
   "source": [
    "remote_data = xr.open_dataarray('http://tds.hycom.org/thredds/dodsC/GLBu0.08/expt_91.1/uv3z?water_v')\n",
    "dav = remote_data.isel(depth=slice(0, 6), lat=slice(lats, latn), lon=slice(lonw, lone), time=slice(ts, te))\n",
    "dav_avg = dav.mean(dim='depth')\n",
    "print(dav_avg)"
   ]
  },
  {
   "cell_type": "code",
   "execution_count": null,
   "metadata": {},
   "outputs": [],
   "source": [
    "_dau = xr.DataArray(dau_avg.values, coords=[timedim, latdim, londim], dims=['time', 'lat', 'lon'])\n",
    "_dav = xr.DataArray(dav_avg.values, coords=[timedim, latdim, londim], dims=['time', 'lat', 'lon'])\n",
    "ds = xr.Dataset({'u': _dau, 'v': _dav})\n",
    "ds.to_netcdf('HyCOM.nc')\n",
    "print(ds)"
   ]
  }
 ],
 "metadata": {
  "kernelspec": {
   "display_name": "Python 3",
   "language": "python",
   "name": "python3"
  },
  "language_info": {
   "codemirror_mode": {
    "name": "ipython",
    "version": 3
   },
   "file_extension": ".py",
   "mimetype": "text/x-python",
   "name": "python",
   "nbconvert_exporter": "python",
   "pygments_lexer": "ipython3",
   "version": "3.6.5"
  }
 },
 "nbformat": 4,
 "nbformat_minor": 2
}
