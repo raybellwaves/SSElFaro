{
 "cells": [
  {
   "cell_type": "markdown",
   "metadata": {},
   "source": [
    "SS El Faro - Currents\n",
    "=====================\n",
    "\n",
    "Author: [Ray Bell](https://github.com/raybellwaves)"
   ]
  },
  {
   "cell_type": "code",
   "execution_count": null,
   "metadata": {},
   "outputs": [],
   "source": [
    "import xarray as xr\n",
    "import xvelmap"
   ]
  },
  {
   "cell_type": "code",
   "execution_count": null,
   "metadata": {},
   "outputs": [],
   "source": [
    "ds = xr.open_dataset('HyCOM.nc')"
   ]
  },
  {
   "cell_type": "code",
   "execution_count": null,
   "metadata": {},
   "outputs": [],
   "source": [
    "# Time is in UTC. Time of last contact\n",
    "# This data is daily\n",
    "_t = '2015-10-01T00:00:00'\n",
    "ds2 = ds.sel(time=_t)\n",
    "ds2.xvelmap.plot('u','v',lat_dim='lat', lon_dim='lon',\n",
    "                 velocity_scale=0.5, max_velocity=1.,\n",
    "                 latlon_center=[int(ds.lat.mean()), int(ds.lon.mean())],\n",
    "                 zoom=6)"
   ]
  },
  {
   "cell_type": "code",
   "execution_count": null,
   "metadata": {},
   "outputs": [],
   "source": []
  }
 ],
 "metadata": {
  "kernelspec": {
   "display_name": "Python 3",
   "language": "python",
   "name": "python3"
  },
  "language_info": {
   "codemirror_mode": {
    "name": "ipython",
    "version": 3
   },
   "file_extension": ".py",
   "mimetype": "text/x-python",
   "name": "python",
   "nbconvert_exporter": "python",
   "pygments_lexer": "ipython3",
   "version": "3.6.5"
  }
 },
 "nbformat": 4,
 "nbformat_minor": 2
}
